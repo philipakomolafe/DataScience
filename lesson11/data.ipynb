{
 "cells": [
  {
   "cell_type": "code",
   "execution_count": null,
   "metadata": {},
   "outputs": [],
   "source": [
    "import matplotlib.pyplot as plt\n",
    "import pandas as pd\n",
    "\n",
    "dict = {\"LENGTH\":[0, 10, 20, 30, 70, 100], \"RF_LOAD\":[0.0, 0.0, 0.0, 0.0, 0.0, 0.0], \"EF_LOAD\":\n",
    "        [0, 0, 0, 0, 0, 0], \"EMF_LOAD\":[1.87, 1.7, 1.83, 1.77, 1.73, 1.7], \"RF_NOLOAD\":[0, 0, 0, 0, 2.83, 2.83], \n",
    "        \"EF_NOLOAD\": [0, 0, 0, 0, 0, 0], \"EMF_NOLOAD\": [198.8, 5.3, 1.8, 1.63, 1.63, 1.67]}\n",
    "\n",
    "rf_df = pd.DataFrame(dict)\n",
    "rf_df\n",
    "\n",
    "length = rf_df[\"LENGTH\"]\n",
    "rf_load = rf_df[\"RF_LOAD\"]\n",
    "rf_noload = rf_df[\"RF_NOLOAD\"]\n",
    "\n",
    "# Plotting\n",
    "plt.figure(figsize=(8, 6))\n",
    "plt.plot(length, rf_load, label=\"RF_LOAD\", marker='o')\n",
    "plt.plot(length, rf_noload, label=\"RF_NOLOAD\", marker='o')\n",
    "plt.xlabel(\"Length (Distance of Device)\")\n",
    "plt.ylabel(\"Radio Frequency Reading\")\n",
    "plt.title(\"RF_LOAD vs RF_NOLOAD\")\n",
    "plt.legend()\n",
    "plt.grid(True)\n",
    "plt.show()"
   ]
  }
 ],
 "metadata": {
  "kernelspec": {
   "display_name": "Python 3",
   "language": "python",
   "name": "python3"
  },
  "language_info": {
   "name": "python",
   "version": "3.10.4"
  },
  "vscode": {
   "interpreter": {
    "hash": "df95319d8ce4e1d89f5365ae10992bc1f65da593082b1d264e8f529830ec2f02"
   }
  }
 },
 "nbformat": 4,
 "nbformat_minor": 2
}
