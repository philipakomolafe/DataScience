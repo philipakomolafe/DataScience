{
 "cells": [
  {
   "cell_type": "code",
   "execution_count": null,
   "metadata": {},
   "outputs": [],
   "source": [
    "import numpy as np \n",
    "import pandas as pd\n",
    "import matplotlib.pyplot as plt\n",
    "import math "
   ]
  },
  {
   "cell_type": "code",
   "execution_count": null,
   "metadata": {},
   "outputs": [],
   "source": [
    "np.random.seed(101) #this helps maintaining the consistency of values provided\n",
    "x = np.linspace(-1, 1, 10)\n",
    "y = np.random.rand(10)\n",
    "\n",
    "# plt.plot(x,y)\n",
    "# plt.plot(np.dot(x,y), y.mean())\n",
    "\n"
   ]
  },
  {
   "cell_type": "code",
   "execution_count": null,
   "metadata": {},
   "outputs": [],
   "source": [
    "fig = plt.figure() #This initiate the figure 😀\n",
    "axes= fig.add_axes([1, 0.5, 1.5, 2])\n",
    "axes1 = fig.add_axes([0.1, 0.5, 0.8, 0.56])\n",
    "\n",
    "\n",
    "axes.plot(x,y)\n",
    "axes1.plot(x, y)\n",
    "\n",
    "axes.set_ylabel(\"Smaller Figure\")\n",
    "axes.set_xlabel('X LABEL')\n",
    "\n",
    "axes1.set_ylabel(\"Y--Label\")\n",
    "axes1.set_xlabel(\"Large figure\")"
   ]
  },
  {
   "cell_type": "code",
   "execution_count": null,
   "metadata": {},
   "outputs": [],
   "source": [
    "x = np.arange(100)\n",
    "y = x * 2\n",
    "z = x ** 2"
   ]
  },
  {
   "cell_type": "code",
   "execution_count": null,
   "metadata": {},
   "outputs": [],
   "source": [
    "fig = plt.figure()\n",
    "ax1 = fig.add_axes([0,0,1,1])\n",
    "ax2 = fig.add_axes([0.2,0.5,.2,.2])\n",
    "\n",
    "ax1.plot(x,y)\n",
    "ax2.plot(x, y)\n",
    "\n",
    "# ax1.set_xlabel(\"X\")\n",
    "\n",
    "\n",
    "\n",
    "# ax2.set_ylabel(\"Y\")\n",
    "# ax2.set_title(\"Title\")"
   ]
  },
  {
   "cell_type": "code",
   "execution_count": null,
   "metadata": {},
   "outputs": [],
   "source": [
    "fig = plt.figure()\n",
    "ax3 = fig.add_axes([0,0,1,1])\n",
    "ax4 = fig.add_axes([0.2,0.5,.4,.4])\n",
    "\n",
    "ax3.plot(x, z)\n",
    "ax4.plot(x, y)\n",
    "ax3.set_xlim([0, 0.5])"
   ]
  },
  {
   "cell_type": "code",
   "execution_count": null,
   "metadata": {},
   "outputs": [],
   "source": [
    "x = np.linspace(2, 15, 100)\n",
    "y = np.linspace(2, 16, 100)\n",
    "fig, axes = plt.subplots( figsize= (8,6), nrows= 1, ncols= 2, )\n",
    "\n",
    "axes[0].plot(x,y, \"b-\", marker= \"+\", markersize= 10)\n",
    "axes[0].set_title(\"Linear Plot\")\n",
    "\n",
    "y = np.arcsinh(x ** 2)\n",
    "\n",
    "axes[1].plot(x,y)\n",
    "axes[1].set_title(\"Exponent Curve\")\n",
    "\n",
    "\n",
    "plt.tight_layout()\n",
    "fig.savefig(\"plot.jpg\", dpi=2000)"
   ]
  },
  {
   "cell_type": "code",
   "execution_count": null,
   "metadata": {},
   "outputs": [],
   "source": [
    "fig = plt.figure()\n",
    "ax = fig.add_axes([0,0,1,1])\n",
    "ax.plot(x, y, label= \"Constant\")\n",
    "ax.plot(y, y**y, label= \"Exponent\", ls= \":\") \n",
    "\n",
    "ax.set_xlim([2, 7.5])\n",
    "ax.set_ylim([2,30])\n",
    "\n",
    "ax.legend(loc=0) #loc - helps to place the legend correctly\n",
    "\n",
    "fig.savefig(\"n_image.png\", dpi= 200)"
   ]
  },
  {
   "attachments": {},
   "cell_type": "markdown",
   "metadata": {},
   "source": [
    "DELVE INTO DATAFRAMES.."
   ]
  },
  {
   "cell_type": "code",
   "execution_count": null,
   "metadata": {},
   "outputs": [],
   "source": [
    "states = [\"Zamfara\", \"Kogi\", 'Yola', \"Benue\", \"Ogun\", \"Ondo\", \"Oyo\", \"Kano\", \"Lagos\"]\n",
    "\n",
    "growth_index = np.arange(190, 2023, 2023/1950 + 1)\n",
    "growth_index = growth_index.round(2).reshape(100,9)\n",
    "\n",
    "df = pd.DataFrame(growth_index, index= np.arange(1,101), columns= states)\n",
    "df\n"
   ]
  },
  {
   "cell_type": "code",
   "execution_count": null,
   "metadata": {},
   "outputs": [],
   "source": [
    "\n",
    "df.plot.area(alpha= 0.6)\n",
    "plt.savefig(\"area.jpg\", dpi=150)"
   ]
  },
  {
   "cell_type": "code",
   "execution_count": null,
   "metadata": {},
   "outputs": [],
   "source": [
    "# df.plot.bar(stacked= True ,figsize=(20,20))\n",
    "\n",
    "# df.plot.scatter(x= \"Oyo\", y=\"Zamfara\", s= df[\"Lagos\"]*100) #SCATTER PLOT FOR better analysis\n",
    "\n",
    "# df.plot.line(x=df.index, y=\"Lagos\", lw= 1) #USeful for line series plot\n",
    "\n",
    "df.plot.box()\n",
    "plt.savefig(\"box.png\", dpi=200)"
   ]
  },
  {
   "cell_type": "code",
   "execution_count": null,
   "metadata": {},
   "outputs": [],
   "source": [
    "df1 = pd.DataFrame(np.random.randn(1000,2), columns=[\"A\", \"B\"])  # BIVARIATE DATAFRAME\n",
    "df1.plot.hexbin(x=\"A\", y=\"B\", figsize=(12, 10), gridsize=40)\n",
    "\n",
    "plt.savefig(\"hexbin.png\", dpi=200)"
   ]
  },
  {
   "cell_type": "code",
   "execution_count": null,
   "metadata": {},
   "outputs": [],
   "source": [
    "df1.plot.density()\n",
    "plt.savefig(\"KDE.jpg\", dpi= 200)"
   ]
  },
  {
   "attachments": {},
   "cell_type": "markdown",
   "metadata": {},
   "source": [
    "Create comlumns plot for the rows up to 30....."
   ]
  },
  {
   "cell_type": "code",
   "execution_count": null,
   "metadata": {},
   "outputs": [],
   "source": [
    "df1.head(30).plot.area(stacked= False, alpha= 0.4)\n",
    "plt.savefig(\"area_plot.jpg\", dpi= 200)"
   ]
  },
  {
   "cell_type": "code",
   "execution_count": null,
   "metadata": {},
   "outputs": [],
   "source": [
    "dict = {\"LENGTH\":[0, 10, 20, 30, 70, 100], \"RF_LOAD\":[0.0, 0.0, 0.0, 0.0, 0.0, 0.0], \"EF_LOAD\":\n",
    "        [0, 0, 0, 0, 0, 0], \"EMF_LOAD\":[1.87, 1.7, 1.83, 1.77, 1.73, 1.7], \"RF_NOLOAD\":[0, 0, 0, 0, 2.83, 2.83], \n",
    "        \"EF_NOLOAD\": [0, 0, 0, 0, 0, 0], \"EMF_NOLOAD\": [198.8, 5.3, 1.8, 1.63, 1.63, 1.67]}\n",
    "\n",
    "rf_df = pd.DataFrame(dict)\n",
    "rf_df"
   ]
  },
  {
   "cell_type": "markdown",
   "metadata": {},
   "source": []
  }
 ],
 "metadata": {
  "kernelspec": {
   "display_name": "Python 3",
   "language": "python",
   "name": "python3"
  },
  "language_info": {
   "codemirror_mode": {
    "name": "ipython",
    "version": 3
   },
   "file_extension": ".py",
   "mimetype": "text/x-python",
   "name": "python",
   "nbconvert_exporter": "python",
   "pygments_lexer": "ipython3",
   "version": "3.10.4"
  },
  "orig_nbformat": 4,
  "vscode": {
   "interpreter": {
    "hash": "df95319d8ce4e1d89f5365ae10992bc1f65da593082b1d264e8f529830ec2f02"
   }
  }
 },
 "nbformat": 4,
 "nbformat_minor": 2
}
